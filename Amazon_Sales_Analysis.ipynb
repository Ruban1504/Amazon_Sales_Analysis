{
 "cells": [
  {
   "cell_type": "markdown",
   "id": "7225035a",
   "metadata": {
    "papermill": {
     "duration": 0.004904,
     "end_time": "2025-03-23T15:01:43.560144",
     "exception": false,
     "start_time": "2025-03-23T15:01:43.555240",
     "status": "completed"
    },
    "tags": []
   },
   "source": [
    "# **Data Analysis of Sales of Supermarket Using SQL**"
   ]
  },
  {
   "cell_type": "markdown",
   "id": "39f73e83",
   "metadata": {
    "papermill": {
     "duration": 0.003841,
     "end_time": "2025-03-23T15:01:43.568449",
     "exception": false,
     "start_time": "2025-03-23T15:01:43.564608",
     "status": "completed"
    },
    "tags": []
   },
   "source": [
    "***Use Cases :***\n",
    "* Calculate total revenue per branch.\n",
    "* Identify the branch with the highest average sales.\n",
    "* Determine total sales revenue by month.\n",
    "* Find peak sales hours across branches.\n",
    "* Count how many customers are members versus normal customers.\n",
    "* Analyze the spending differences between male and female customers.\n",
    "* Identify the most popular payment method among customers.\n",
    "* List top 5 product lines by total sales revenue.\n",
    "* Calculate the average quantity sold per product line.\n",
    "* Find the product line with the highest gross margin.\n",
    "* Discover sales trends by weekdays versus weekends.\n",
    "* Identify if particular product lines sell better during certain times of the day (morning vs. evening)."
   ]
  },
  {
   "cell_type": "code",
   "execution_count": 1,
   "id": "329f7916",
   "metadata": {
    "_cell_guid": "b1076dfc-b9ad-4769-8c92-a6c4dae69d19",
    "_uuid": "8f2839f25d086af736a60e9eeb907d3b93b6e0e5",
    "execution": {
     "iopub.execute_input": "2025-03-23T15:01:43.578082Z",
     "iopub.status.busy": "2025-03-23T15:01:43.577710Z",
     "iopub.status.idle": "2025-03-23T15:01:44.419719Z",
     "shell.execute_reply": "2025-03-23T15:01:44.418472Z"
    },
    "papermill": {
     "duration": 0.848845,
     "end_time": "2025-03-23T15:01:44.421486",
     "exception": false,
     "start_time": "2025-03-23T15:01:43.572641",
     "status": "completed"
    },
    "tags": []
   },
   "outputs": [
    {
     "name": "stdout",
     "output_type": "stream",
     "text": [
      "/kaggle/input/supermarket-sales/supermarket_sales - Sheet1.csv\n"
     ]
    }
   ],
   "source": [
    "# This Python 3 environment comes with many helpful analytics libraries installed\n",
    "# It is defined by the kaggle/python Docker image: https://github.com/kaggle/docker-python\n",
    "# For example, here's several helpful packages to load\n",
    "\n",
    "import numpy as np # linear algebra\n",
    "import pandas as pd # data processing, CSV file I/O (e.g. pd.read_csv)\n",
    "import sqlite3\n",
    "\n",
    "# Input data files are available in the read-only \"../input/\" directory\n",
    "# For example, running this (by clicking run or pressing Shift+Enter) will list all files under the input directory\n",
    "\n",
    "import os\n",
    "for dirname, _, filenames in os.walk('/kaggle/input'):\n",
    "    for filename in filenames:\n",
    "        print(os.path.join(dirname, filename))\n",
    "\n",
    "# You can write up to 20GB to the current directory (/kaggle/working/) that gets preserved as output when you create a version using \"Save & Run All\" \n",
    "# You can also write temporary files to /kaggle/temp/, but they won't be saved outside of the current session"
   ]
  },
  {
   "cell_type": "code",
   "execution_count": 2,
   "id": "2a3ef8cf",
   "metadata": {
    "execution": {
     "iopub.execute_input": "2025-03-23T15:01:44.431736Z",
     "iopub.status.busy": "2025-03-23T15:01:44.431217Z",
     "iopub.status.idle": "2025-03-23T15:01:44.483678Z",
     "shell.execute_reply": "2025-03-23T15:01:44.482590Z"
    },
    "papermill": {
     "duration": 0.05934,
     "end_time": "2025-03-23T15:01:44.485360",
     "exception": false,
     "start_time": "2025-03-23T15:01:44.426020",
     "status": "completed"
    },
    "tags": []
   },
   "outputs": [
    {
     "data": {
      "text/html": [
       "<div>\n",
       "<style scoped>\n",
       "    .dataframe tbody tr th:only-of-type {\n",
       "        vertical-align: middle;\n",
       "    }\n",
       "\n",
       "    .dataframe tbody tr th {\n",
       "        vertical-align: top;\n",
       "    }\n",
       "\n",
       "    .dataframe thead th {\n",
       "        text-align: right;\n",
       "    }\n",
       "</style>\n",
       "<table border=\"1\" class=\"dataframe\">\n",
       "  <thead>\n",
       "    <tr style=\"text-align: right;\">\n",
       "      <th></th>\n",
       "      <th>Invoice ID</th>\n",
       "      <th>Branch</th>\n",
       "      <th>City</th>\n",
       "      <th>Customer type</th>\n",
       "      <th>Gender</th>\n",
       "      <th>Product line</th>\n",
       "      <th>Unit price</th>\n",
       "      <th>Quantity</th>\n",
       "      <th>Tax 5%</th>\n",
       "      <th>Total</th>\n",
       "      <th>Date</th>\n",
       "      <th>Time</th>\n",
       "      <th>Payment</th>\n",
       "      <th>cogs</th>\n",
       "      <th>gross margin percentage</th>\n",
       "      <th>gross income</th>\n",
       "      <th>Rating</th>\n",
       "    </tr>\n",
       "  </thead>\n",
       "  <tbody>\n",
       "    <tr>\n",
       "      <th>0</th>\n",
       "      <td>750-67-8428</td>\n",
       "      <td>A</td>\n",
       "      <td>Yangon</td>\n",
       "      <td>Member</td>\n",
       "      <td>Female</td>\n",
       "      <td>Health and beauty</td>\n",
       "      <td>74.69</td>\n",
       "      <td>7</td>\n",
       "      <td>26.1415</td>\n",
       "      <td>548.9715</td>\n",
       "      <td>1/5/2019</td>\n",
       "      <td>13:08</td>\n",
       "      <td>Ewallet</td>\n",
       "      <td>522.83</td>\n",
       "      <td>4.761905</td>\n",
       "      <td>26.1415</td>\n",
       "      <td>9.1</td>\n",
       "    </tr>\n",
       "    <tr>\n",
       "      <th>1</th>\n",
       "      <td>226-31-3081</td>\n",
       "      <td>C</td>\n",
       "      <td>Naypyitaw</td>\n",
       "      <td>Normal</td>\n",
       "      <td>Female</td>\n",
       "      <td>Electronic accessories</td>\n",
       "      <td>15.28</td>\n",
       "      <td>5</td>\n",
       "      <td>3.8200</td>\n",
       "      <td>80.2200</td>\n",
       "      <td>3/8/2019</td>\n",
       "      <td>10:29</td>\n",
       "      <td>Cash</td>\n",
       "      <td>76.40</td>\n",
       "      <td>4.761905</td>\n",
       "      <td>3.8200</td>\n",
       "      <td>9.6</td>\n",
       "    </tr>\n",
       "    <tr>\n",
       "      <th>2</th>\n",
       "      <td>631-41-3108</td>\n",
       "      <td>A</td>\n",
       "      <td>Yangon</td>\n",
       "      <td>Normal</td>\n",
       "      <td>Male</td>\n",
       "      <td>Home and lifestyle</td>\n",
       "      <td>46.33</td>\n",
       "      <td>7</td>\n",
       "      <td>16.2155</td>\n",
       "      <td>340.5255</td>\n",
       "      <td>3/3/2019</td>\n",
       "      <td>13:23</td>\n",
       "      <td>Credit card</td>\n",
       "      <td>324.31</td>\n",
       "      <td>4.761905</td>\n",
       "      <td>16.2155</td>\n",
       "      <td>7.4</td>\n",
       "    </tr>\n",
       "    <tr>\n",
       "      <th>3</th>\n",
       "      <td>123-19-1176</td>\n",
       "      <td>A</td>\n",
       "      <td>Yangon</td>\n",
       "      <td>Member</td>\n",
       "      <td>Male</td>\n",
       "      <td>Health and beauty</td>\n",
       "      <td>58.22</td>\n",
       "      <td>8</td>\n",
       "      <td>23.2880</td>\n",
       "      <td>489.0480</td>\n",
       "      <td>1/27/2019</td>\n",
       "      <td>20:33</td>\n",
       "      <td>Ewallet</td>\n",
       "      <td>465.76</td>\n",
       "      <td>4.761905</td>\n",
       "      <td>23.2880</td>\n",
       "      <td>8.4</td>\n",
       "    </tr>\n",
       "    <tr>\n",
       "      <th>4</th>\n",
       "      <td>373-73-7910</td>\n",
       "      <td>A</td>\n",
       "      <td>Yangon</td>\n",
       "      <td>Normal</td>\n",
       "      <td>Male</td>\n",
       "      <td>Sports and travel</td>\n",
       "      <td>86.31</td>\n",
       "      <td>7</td>\n",
       "      <td>30.2085</td>\n",
       "      <td>634.3785</td>\n",
       "      <td>2/8/2019</td>\n",
       "      <td>10:37</td>\n",
       "      <td>Ewallet</td>\n",
       "      <td>604.17</td>\n",
       "      <td>4.761905</td>\n",
       "      <td>30.2085</td>\n",
       "      <td>5.3</td>\n",
       "    </tr>\n",
       "  </tbody>\n",
       "</table>\n",
       "</div>"
      ],
      "text/plain": [
       "    Invoice ID Branch       City Customer type  Gender  \\\n",
       "0  750-67-8428      A     Yangon        Member  Female   \n",
       "1  226-31-3081      C  Naypyitaw        Normal  Female   \n",
       "2  631-41-3108      A     Yangon        Normal    Male   \n",
       "3  123-19-1176      A     Yangon        Member    Male   \n",
       "4  373-73-7910      A     Yangon        Normal    Male   \n",
       "\n",
       "             Product line  Unit price  Quantity   Tax 5%     Total       Date  \\\n",
       "0       Health and beauty       74.69         7  26.1415  548.9715   1/5/2019   \n",
       "1  Electronic accessories       15.28         5   3.8200   80.2200   3/8/2019   \n",
       "2      Home and lifestyle       46.33         7  16.2155  340.5255   3/3/2019   \n",
       "3       Health and beauty       58.22         8  23.2880  489.0480  1/27/2019   \n",
       "4       Sports and travel       86.31         7  30.2085  634.3785   2/8/2019   \n",
       "\n",
       "    Time      Payment    cogs  gross margin percentage  gross income  Rating  \n",
       "0  13:08      Ewallet  522.83                 4.761905       26.1415     9.1  \n",
       "1  10:29         Cash   76.40                 4.761905        3.8200     9.6  \n",
       "2  13:23  Credit card  324.31                 4.761905       16.2155     7.4  \n",
       "3  20:33      Ewallet  465.76                 4.761905       23.2880     8.4  \n",
       "4  10:37      Ewallet  604.17                 4.761905       30.2085     5.3  "
      ]
     },
     "execution_count": 2,
     "metadata": {},
     "output_type": "execute_result"
    }
   ],
   "source": [
    "csv_file_path = '/kaggle/input/supermarket-sales/supermarket_sales - Sheet1.csv'\n",
    "df = pd.read_csv(csv_file_path)\n",
    "df.head()"
   ]
  },
  {
   "cell_type": "code",
   "execution_count": 3,
   "id": "b6302e73",
   "metadata": {
    "execution": {
     "iopub.execute_input": "2025-03-23T15:01:44.496004Z",
     "iopub.status.busy": "2025-03-23T15:01:44.495629Z",
     "iopub.status.idle": "2025-03-23T15:01:44.512140Z",
     "shell.execute_reply": "2025-03-23T15:01:44.510869Z"
    },
    "papermill": {
     "duration": 0.024018,
     "end_time": "2025-03-23T15:01:44.514150",
     "exception": false,
     "start_time": "2025-03-23T15:01:44.490132",
     "status": "completed"
    },
    "tags": []
   },
   "outputs": [
    {
     "data": {
      "text/plain": [
       "1000"
      ]
     },
     "execution_count": 3,
     "metadata": {},
     "output_type": "execute_result"
    }
   ],
   "source": [
    "# Create a SQLite connection (in-memory database)\n",
    "conn = sqlite3.connect(':memory:')\n",
    "\n",
    "# Load DataFrame into SQLite as a table named 'data_table'\n",
    "df.to_sql('sales_table', conn, index=False, if_exists='replace')"
   ]
  },
  {
   "cell_type": "code",
   "execution_count": 4,
   "id": "7be8edf3",
   "metadata": {
    "execution": {
     "iopub.execute_input": "2025-03-23T15:01:44.525053Z",
     "iopub.status.busy": "2025-03-23T15:01:44.524708Z",
     "iopub.status.idle": "2025-03-23T15:01:44.537908Z",
     "shell.execute_reply": "2025-03-23T15:01:44.536715Z"
    },
    "papermill": {
     "duration": 0.020235,
     "end_time": "2025-03-23T15:01:44.539399",
     "exception": false,
     "start_time": "2025-03-23T15:01:44.519164",
     "status": "completed"
    },
    "tags": []
   },
   "outputs": [
    {
     "name": "stdout",
     "output_type": "stream",
     "text": [
      "    Invoice ID Branch       City Customer type  Gender  \\\n",
      "0  750-67-8428      A     Yangon        Member  Female   \n",
      "1  226-31-3081      C  Naypyitaw        Normal  Female   \n",
      "2  631-41-3108      A     Yangon        Normal    Male   \n",
      "3  123-19-1176      A     Yangon        Member    Male   \n",
      "4  373-73-7910      A     Yangon        Normal    Male   \n",
      "\n",
      "             Product line  Unit price  Quantity   Tax 5%     Total       Date  \\\n",
      "0       Health and beauty       74.69         7  26.1415  548.9715   1/5/2019   \n",
      "1  Electronic accessories       15.28         5   3.8200   80.2200   3/8/2019   \n",
      "2      Home and lifestyle       46.33         7  16.2155  340.5255   3/3/2019   \n",
      "3       Health and beauty       58.22         8  23.2880  489.0480  1/27/2019   \n",
      "4       Sports and travel       86.31         7  30.2085  634.3785   2/8/2019   \n",
      "\n",
      "    Time      Payment    cogs  gross margin percentage  gross income  Rating  \n",
      "0  13:08      Ewallet  522.83                 4.761905       26.1415     9.1  \n",
      "1  10:29         Cash   76.40                 4.761905        3.8200     9.6  \n",
      "2  13:23  Credit card  324.31                 4.761905       16.2155     7.4  \n",
      "3  20:33      Ewallet  465.76                 4.761905       23.2880     8.4  \n",
      "4  10:37      Ewallet  604.17                 4.761905       30.2085     5.3  \n"
     ]
    }
   ],
   "source": [
    "query = '''\n",
    "SELECT *\n",
    "FROM sales_table\n",
    "LIMIT 5;\n",
    "'''\n",
    "\n",
    "result = pd.read_sql_query(query, conn)\n",
    "print(result)"
   ]
  },
  {
   "cell_type": "code",
   "execution_count": 5,
   "id": "79d5eca4",
   "metadata": {
    "execution": {
     "iopub.execute_input": "2025-03-23T15:01:44.550549Z",
     "iopub.status.busy": "2025-03-23T15:01:44.550177Z",
     "iopub.status.idle": "2025-03-23T15:01:44.558075Z",
     "shell.execute_reply": "2025-03-23T15:01:44.556834Z"
    },
    "papermill": {
     "duration": 0.015212,
     "end_time": "2025-03-23T15:01:44.559692",
     "exception": false,
     "start_time": "2025-03-23T15:01:44.544480",
     "status": "completed"
    },
    "tags": []
   },
   "outputs": [
    {
     "name": "stdout",
     "output_type": "stream",
     "text": [
      "   INVOICE_ID Branch\n",
      "0         340      A\n",
      "1         332      B\n",
      "2         328      C\n"
     ]
    }
   ],
   "source": [
    "#get all brances\n",
    "query = '''\n",
    "SELECT Count(\"Invoice ID\") AS INVOICE_ID,Branch \n",
    "FROM sales_table\n",
    "GROUP BY Branch;\n",
    "'''\n",
    "\n",
    "result = pd.read_sql_query(query, conn)\n",
    "print(result)"
   ]
  },
  {
   "cell_type": "code",
   "execution_count": 6,
   "id": "68ef94a9",
   "metadata": {
    "execution": {
     "iopub.execute_input": "2025-03-23T15:01:44.570427Z",
     "iopub.status.busy": "2025-03-23T15:01:44.570131Z",
     "iopub.status.idle": "2025-03-23T15:01:44.577455Z",
     "shell.execute_reply": "2025-03-23T15:01:44.576498Z"
    },
    "papermill": {
     "duration": 0.014262,
     "end_time": "2025-03-23T15:01:44.578862",
     "exception": false,
     "start_time": "2025-03-23T15:01:44.564600",
     "status": "completed"
    },
    "tags": []
   },
   "outputs": [
    {
     "name": "stdout",
     "output_type": "stream",
     "text": [
      "  Branch      REVENUE\n",
      "0      A  106200.3705\n",
      "1      B  106197.6720\n",
      "2      C  110568.7065\n"
     ]
    }
   ],
   "source": [
    "#Calculate total revenue per branch.\n",
    "query = '''\n",
    "SELECT Branch, SUM(\"Total\") AS REVENUE\n",
    "FROM sales_table\n",
    "GROUP BY Branch;\n",
    "'''\n",
    "result = pd.read_sql_query(query, conn)\n",
    "print(result)"
   ]
  },
  {
   "cell_type": "code",
   "execution_count": 7,
   "id": "975ac8b7",
   "metadata": {
    "execution": {
     "iopub.execute_input": "2025-03-23T15:01:44.589817Z",
     "iopub.status.busy": "2025-03-23T15:01:44.589469Z",
     "iopub.status.idle": "2025-03-23T15:01:44.597326Z",
     "shell.execute_reply": "2025-03-23T15:01:44.596374Z"
    },
    "papermill": {
     "duration": 0.014996,
     "end_time": "2025-03-23T15:01:44.598813",
     "exception": false,
     "start_time": "2025-03-23T15:01:44.583817",
     "status": "completed"
    },
    "tags": []
   },
   "outputs": [
    {
     "name": "stdout",
     "output_type": "stream",
     "text": [
      "   revenue_per_sale  sales_rank city_branch\n",
      "0             337.0           1   Naypyitaw\n",
      "1             320.0           2    Mandalay\n",
      "2             312.0           3      Yangon\n"
     ]
    }
   ],
   "source": [
    "#Branch with the highest average sales.\n",
    "query = '''\n",
    "WITH sales_revenue AS (\n",
    "    SELECT \n",
    "    SUM(\"Total\") AS REVENUE,\n",
    "    COUNT(\"Invoice Id\") AS SALES,\n",
    "    City as city_branch\n",
    "    FROM sales_table\n",
    "    GROUP BY city_branch\n",
    ")\n",
    "\n",
    "\n",
    "SELECT \n",
    "ROUND(REVENUE / SALES) revenue_per_sale,\n",
    "DENSE_RANK() OVER (ORDER BY ROUND(REVENUE / SALES) DESC) as sales_rank ,\n",
    "city_branch\n",
    "FROM \n",
    "sales_revenue;\n",
    "'''\n",
    "result = pd.read_sql_query(query, conn)\n",
    "print(result)"
   ]
  },
  {
   "cell_type": "code",
   "execution_count": 8,
   "id": "53be2496",
   "metadata": {
    "execution": {
     "iopub.execute_input": "2025-03-23T15:01:44.609958Z",
     "iopub.status.busy": "2025-03-23T15:01:44.609623Z",
     "iopub.status.idle": "2025-03-23T15:01:44.618636Z",
     "shell.execute_reply": "2025-03-23T15:01:44.617322Z"
    },
    "papermill": {
     "duration": 0.016347,
     "end_time": "2025-03-23T15:01:44.620188",
     "exception": false,
     "start_time": "2025-03-23T15:01:44.603841",
     "status": "completed"
    },
    "tags": []
   },
   "outputs": [
    {
     "name": "stdout",
     "output_type": "stream",
     "text": [
      "        City  Month_A  Count_of_Sales     revenue\n",
      "0   Mandalay        1             111  37176.0585\n",
      "1   Mandalay        2             109  34424.2710\n",
      "2   Mandalay        3             112  34597.3425\n",
      "3  Naypyitaw        1             122  40434.6810\n",
      "4  Naypyitaw        2             100  32934.9825\n",
      "5  Naypyitaw        3             106  37199.0430\n",
      "6     Yangon        1             119  38681.1285\n",
      "7     Yangon        2              94  29860.1205\n",
      "8     Yangon        3             127  37659.1215\n"
     ]
    }
   ],
   "source": [
    "#Determine total sales revenue by month.\n",
    "query = '''\n",
    "WITH sales_revenue_month AS (\n",
    "    SELECT \n",
    "    City,\n",
    "    CAST(substr(DATE, 1, instr(DATE, '/') - 1) AS INTEGER) AS Month_A,\n",
    "    COUNT(\"Invoice ID\") AS Count_of_Sales,\n",
    "    SUM(\"Total\") AS revenue\n",
    "    FROM sales_table\n",
    "    GROUP BY City, Month_A\n",
    ")\n",
    "\n",
    "\n",
    "SELECT \n",
    "*\n",
    "FROM \n",
    "sales_revenue_month;\n",
    "'''\n",
    "\n",
    "result = pd.read_sql_query(query, conn)\n",
    "print(result)"
   ]
  },
  {
   "cell_type": "code",
   "execution_count": 9,
   "id": "6eba7c20",
   "metadata": {
    "execution": {
     "iopub.execute_input": "2025-03-23T15:01:44.631876Z",
     "iopub.status.busy": "2025-03-23T15:01:44.631543Z",
     "iopub.status.idle": "2025-03-23T15:01:44.639353Z",
     "shell.execute_reply": "2025-03-23T15:01:44.638381Z"
    },
    "papermill": {
     "duration": 0.015298,
     "end_time": "2025-03-23T15:01:44.640901",
     "exception": false,
     "start_time": "2025-03-23T15:01:44.625603",
     "status": "completed"
    },
    "tags": []
   },
   "outputs": [
    {
     "name": "stdout",
     "output_type": "stream",
     "text": [
      "        City  Sales_Hour  Number_of_Sales\n",
      "0   Mandalay          19               50\n",
      "1  Naypyitaw          10               37\n",
      "2     Yangon          10               38\n"
     ]
    }
   ],
   "source": [
    "#Peak sales hours across branche\n",
    "query = '''\n",
    "WITH HourlySales AS (\n",
    "    SELECT\n",
    "        City,\n",
    "        CAST(substr(Time, 1, 2) AS INTEGER) AS Sales_Hour,\n",
    "        COUNT(\"Invoice ID\") AS Number_of_Sales\n",
    "        FROM sales_table\n",
    "    GROUP BY City, Sales_Hour\n",
    "),\n",
    "RankedSales AS (\n",
    "    SELECT\n",
    "        City,\n",
    "        Sales_Hour,\n",
    "        Number_of_Sales,\n",
    "        DENSE_RANK() OVER (PARTITION By City ORDER BY Number_of_Sales DESC) AS HOUR_RATE\n",
    "        FROM\n",
    "    HourlySales\n",
    ")\n",
    "SELECT\n",
    "City,\n",
    "Sales_Hour,\n",
    "Number_of_Sales\n",
    "FROM \n",
    "RankedSales\n",
    "WHERE HOUR_RATE = 1\n",
    ";\n",
    "'''\n",
    "\n",
    "result = pd.read_sql_query(query, conn)\n",
    "print(result)"
   ]
  },
  {
   "cell_type": "code",
   "execution_count": 10,
   "id": "391c3df5",
   "metadata": {
    "execution": {
     "iopub.execute_input": "2025-03-23T15:01:44.652116Z",
     "iopub.status.busy": "2025-03-23T15:01:44.651822Z",
     "iopub.status.idle": "2025-03-23T15:01:44.658750Z",
     "shell.execute_reply": "2025-03-23T15:01:44.657780Z"
    },
    "papermill": {
     "duration": 0.014233,
     "end_time": "2025-03-23T15:01:44.660269",
     "exception": false,
     "start_time": "2025-03-23T15:01:44.646036",
     "status": "completed"
    },
    "tags": []
   },
   "outputs": [
    {
     "name": "stdout",
     "output_type": "stream",
     "text": [
      "   SALES_COUNT Customer_Type\n",
      "0          501        Member\n",
      "1          499        Normal\n"
     ]
    }
   ],
   "source": [
    "#Count how many customers are members versus normal customers.\n",
    "query = '''\n",
    "   SELECT\n",
    "       COUNT(\"Invoice ID\") AS SALES_COUNT,\n",
    "       \"Customer Type\" AS Customer_Type\n",
    "   FROM\n",
    "   sales_table\n",
    "   GROUP By Customer_Type;\n",
    "'''\n",
    "\n",
    "result = pd.read_sql_query(query, conn)\n",
    "print(result)"
   ]
  },
  {
   "cell_type": "code",
   "execution_count": 11,
   "id": "f3bd0044",
   "metadata": {
    "execution": {
     "iopub.execute_input": "2025-03-23T15:01:44.671937Z",
     "iopub.status.busy": "2025-03-23T15:01:44.671613Z",
     "iopub.status.idle": "2025-03-23T15:01:44.680106Z",
     "shell.execute_reply": "2025-03-23T15:01:44.679060Z"
    },
    "papermill": {
     "duration": 0.01611,
     "end_time": "2025-03-23T15:01:44.681684",
     "exception": false,
     "start_time": "2025-03-23T15:01:44.665574",
     "status": "completed"
    },
    "tags": []
   },
   "outputs": [
    {
     "name": "stdout",
     "output_type": "stream",
     "text": [
      "   Gender  Total_Sales  Total_Spending  Avg_Spending_Per_Sale\n",
      "0  Female          501       167882.93                 335.10\n",
      "1    Male          499       155083.82                 310.79\n"
     ]
    }
   ],
   "source": [
    "#Analyze the spending differences between male and female customers.\n",
    "query = '''\n",
    "SELECT\n",
    "    Gender,\n",
    "    COUNT(\"Invoice ID\") AS Total_Sales,\n",
    "    ROUND(SUM(\"Total\"), 2) AS Total_Spending,\n",
    "    ROUND(AVG(\"Total\"), 2) AS Avg_Spending_Per_Sale\n",
    "FROM sales_table\n",
    "GROUP BY Gender;\n",
    "'''\n",
    "\n",
    "result = pd.read_sql_query(query, conn)\n",
    "print(result)"
   ]
  },
  {
   "cell_type": "code",
   "execution_count": 12,
   "id": "c5094a18",
   "metadata": {
    "execution": {
     "iopub.execute_input": "2025-03-23T15:01:44.693605Z",
     "iopub.status.busy": "2025-03-23T15:01:44.693250Z",
     "iopub.status.idle": "2025-03-23T15:01:44.700100Z",
     "shell.execute_reply": "2025-03-23T15:01:44.699049Z"
    },
    "papermill": {
     "duration": 0.014431,
     "end_time": "2025-03-23T15:01:44.701572",
     "exception": false,
     "start_time": "2025-03-23T15:01:44.687141",
     "status": "completed"
    },
    "tags": []
   },
   "outputs": [
    {
     "name": "stdout",
     "output_type": "stream",
     "text": [
      "   Payment_Count  Payment\n",
      "0            345  Ewallet\n"
     ]
    }
   ],
   "source": [
    "# Identify the most popular payment method among customers.\n",
    "query = '''\n",
    "SELECT\n",
    "    Count(\"Invoice ID\") AS Payment_Count,\n",
    "    Payment\n",
    "FROM sales_table\n",
    "GROUP BY Payment\n",
    "ORDER BY Payment_Count DESC\n",
    "LIMIT 1;\n",
    "'''\n",
    "\n",
    "result = pd.read_sql_query(query, conn)\n",
    "print(result)"
   ]
  },
  {
   "cell_type": "code",
   "execution_count": 13,
   "id": "9736648b",
   "metadata": {
    "execution": {
     "iopub.execute_input": "2025-03-23T15:01:44.713554Z",
     "iopub.status.busy": "2025-03-23T15:01:44.713193Z",
     "iopub.status.idle": "2025-03-23T15:01:44.721865Z",
     "shell.execute_reply": "2025-03-23T15:01:44.720739Z"
    },
    "papermill": {
     "duration": 0.0161,
     "end_time": "2025-03-23T15:01:44.723292",
     "exception": false,
     "start_time": "2025-03-23T15:01:44.707192",
     "status": "completed"
    },
    "tags": []
   },
   "outputs": [
    {
     "name": "stdout",
     "output_type": "stream",
     "text": [
      "             Product_Line  TOTAL_SALES_REVENUE  TOTAL_QUANITY_SOLD  \\\n",
      "0      Food and beverages             55993.99                 952   \n",
      "1       Sports and travel             55058.69                 920   \n",
      "2  Electronic accessories             54586.09                 971   \n",
      "3     Fashion accessories             54138.59                 902   \n",
      "4      Home and lifestyle             52958.58                 911   \n",
      "\n",
      "   AVG_UNIT_PRICE  \n",
      "0       56.008851  \n",
      "1       56.993253  \n",
      "2       53.551588  \n",
      "3       57.153652  \n",
      "4       55.316937  \n"
     ]
    }
   ],
   "source": [
    "#List top 5 product lines by total sales revenue.\n",
    "# total sales revenue = ((number of units sold) * (the average unit price) ) + TAX\n",
    "query = '''\n",
    "WITH SALES AS \n",
    "(\n",
    "    SELECT \n",
    "     Count(\"Invoice ID\") AS Sold_Products,\n",
    "     \"Product line\" AS Product_Line,\n",
    "     SUM(\"Tax 5%\") AS TAX,\n",
    "      SUM(Quantity) AS Product_Quantity,\n",
    "      AVG(\"UNIT price\") AS Unit_Price\n",
    "    FROM \n",
    "        Sales_table\n",
    "    GROUP BY\n",
    "        Product_Line\n",
    ")\n",
    "\n",
    "SELECT\n",
    "    Product_Line,\n",
    "    ROUND((Product_Quantity * Unit_Price)+TAX , 2) AS TOTAL_SALES_REVENUE,\n",
    "    Product_Quantity AS TOTAL_QUANITY_SOLD,\n",
    "    Unit_Price AS AVG_UNIT_PRICE\n",
    "FROM SALES\n",
    "ORDER BY TOTAL_SALES_REVENUE DESC\n",
    "LIMIT 5;\n",
    "'''\n",
    "\n",
    "result = pd.read_sql_query(query, conn)\n",
    "print(result)"
   ]
  },
  {
   "cell_type": "code",
   "execution_count": 14,
   "id": "52c90b03",
   "metadata": {
    "execution": {
     "iopub.execute_input": "2025-03-23T15:01:44.735385Z",
     "iopub.status.busy": "2025-03-23T15:01:44.735073Z",
     "iopub.status.idle": "2025-03-23T15:01:44.742656Z",
     "shell.execute_reply": "2025-03-23T15:01:44.741506Z"
    },
    "papermill": {
     "duration": 0.01536,
     "end_time": "2025-03-23T15:01:44.744147",
     "exception": false,
     "start_time": "2025-03-23T15:01:44.728787",
     "status": "completed"
    },
    "tags": []
   },
   "outputs": [
    {
     "name": "stdout",
     "output_type": "stream",
     "text": [
      "   AVG_QUANTITY            Product_Line\n",
      "0      5.711765  Electronic accessories\n",
      "1      5.067416     Fashion accessories\n",
      "2      5.471264      Food and beverages\n",
      "3      5.618421       Health and beauty\n",
      "4      5.693750      Home and lifestyle\n",
      "5      5.542169       Sports and travel\n"
     ]
    }
   ],
   "source": [
    "#Calculate the average quantity sold per product line.\n",
    "query = '''\n",
    "    SELECT \n",
    "        AVG(Quantity) AS AVG_QUANTITY,\n",
    "        \"Product line\" AS Product_Line\n",
    "    FROM Sales_table\n",
    "    GROUP BY Product_Line\n",
    "'''\n",
    "result = pd.read_sql_query(query, conn)\n",
    "print(result)"
   ]
  },
  {
   "cell_type": "code",
   "execution_count": 15,
   "id": "0c36d4af",
   "metadata": {
    "execution": {
     "iopub.execute_input": "2025-03-23T15:01:44.757630Z",
     "iopub.status.busy": "2025-03-23T15:01:44.757241Z",
     "iopub.status.idle": "2025-03-23T15:01:44.765485Z",
     "shell.execute_reply": "2025-03-23T15:01:44.764386Z"
    },
    "papermill": {
     "duration": 0.016695,
     "end_time": "2025-03-23T15:01:44.767123",
     "exception": false,
     "start_time": "2025-03-23T15:01:44.750428",
     "status": "completed"
    },
    "tags": []
   },
   "outputs": [
    {
     "name": "stdout",
     "output_type": "stream",
     "text": [
      "   SUM_Gross_Margin  Gross_Margin            Product_Line\n",
      "0                 1    847.619048     Fashion accessories\n",
      "1                 2    828.571429      Food and beverages\n",
      "2                 3    809.523810  Electronic accessories\n",
      "3                 4    790.476190       Sports and travel\n",
      "4                 5    761.904762      Home and lifestyle\n",
      "5                 6    723.809524       Health and beauty\n"
     ]
    }
   ],
   "source": [
    "#Find the product line with the highest gross margin.\n",
    "query = '''\n",
    "    WITH SALES AS\n",
    "    (\n",
    "       SELECT \n",
    "          SUM(\"Gross margin percentage\") AS Gross_Margin,\n",
    "            \"Product line\" AS Product_Line\n",
    "        FROM Sales_table\n",
    "        GROUP BY Product_Line\n",
    "    )\n",
    "    SELECT \n",
    "    DENSE_RANK() OVER (ORDER BY Gross_Margin DESC) SUM_Gross_Margin,\n",
    "    Gross_Margin,\n",
    "    Product_Line\n",
    "    FROM \n",
    "    SALES\n",
    "'''\n",
    "result = pd.read_sql_query(query, conn)\n",
    "print(result)\n"
   ]
  },
  {
   "cell_type": "code",
   "execution_count": 16,
   "id": "9e6a5685",
   "metadata": {
    "execution": {
     "iopub.execute_input": "2025-03-23T15:01:44.779544Z",
     "iopub.status.busy": "2025-03-23T15:01:44.779208Z",
     "iopub.status.idle": "2025-03-23T15:01:44.787027Z",
     "shell.execute_reply": "2025-03-23T15:01:44.786019Z"
    },
    "papermill": {
     "duration": 0.015715,
     "end_time": "2025-03-23T15:01:44.788495",
     "exception": false,
     "start_time": "2025-03-23T15:01:44.772780",
     "status": "completed"
    },
    "tags": []
   },
   "outputs": [
    {
     "name": "stdout",
     "output_type": "stream",
     "text": [
      "  Day_Type  Total_Sales  Number_of_Transactions\n",
      "0  Weekday    322966.75                    1000\n"
     ]
    }
   ],
   "source": [
    "# Discover sales trends by weekdays versus weekends.\n",
    "query = '''\n",
    "   SELECT\n",
    "    CASE\n",
    "        WHEN strftime('%w', Date) IN ('0', '6') THEN 'Weekend'\n",
    "        ELSE 'Weekday'\n",
    "    END AS Day_Type,\n",
    "    ROUND(SUM(Total), 2) AS Total_Sales,\n",
    "    COUNT(\"Invoice ID\") AS Number_of_Transactions\n",
    "FROM sales_table\n",
    "GROUP BY Day_Type;\n",
    "'''\n",
    "result = pd.read_sql_query(query, conn)\n",
    "print(result)"
   ]
  },
  {
   "cell_type": "code",
   "execution_count": 17,
   "id": "a71bbb83",
   "metadata": {
    "execution": {
     "iopub.execute_input": "2025-03-23T15:01:44.800776Z",
     "iopub.status.busy": "2025-03-23T15:01:44.800404Z",
     "iopub.status.idle": "2025-03-23T15:01:44.809723Z",
     "shell.execute_reply": "2025-03-23T15:01:44.808612Z"
    },
    "papermill": {
     "duration": 0.017012,
     "end_time": "2025-03-23T15:01:44.811165",
     "exception": false,
     "start_time": "2025-03-23T15:01:44.794153",
     "status": "completed"
    },
    "tags": []
   },
   "outputs": [
    {
     "name": "stdout",
     "output_type": "stream",
     "text": [
      "              Product_Line Time_of_Day  Total_Quantity_Sold\n",
      "0   Electronic accessories   Afternoon                  486\n",
      "1   Electronic accessories     Evening                  298\n",
      "2   Electronic accessories     Morning                  187\n",
      "3      Fashion accessories   Afternoon                  490\n",
      "4      Fashion accessories     Evening                  255\n",
      "5      Fashion accessories     Morning                  157\n",
      "6       Food and beverages   Afternoon                  441\n",
      "7       Food and beverages     Evening                  332\n",
      "8       Food and beverages     Morning                  179\n",
      "9        Health and beauty   Afternoon                  487\n",
      "10       Health and beauty     Evening                  237\n",
      "11       Health and beauty     Morning                  130\n",
      "12      Home and lifestyle   Afternoon                  504\n",
      "13      Home and lifestyle     Evening                  194\n",
      "14      Home and lifestyle     Morning                  213\n",
      "15       Sports and travel   Afternoon                  538\n",
      "16       Sports and travel     Evening                  210\n",
      "17       Sports and travel     Morning                  172\n"
     ]
    }
   ],
   "source": [
    "# Identify if particular product lines sell better during certain times of the day (morning vs. evening).\n",
    "query = '''\n",
    "  SELECT\n",
    "    \"Product line\" AS Product_Line,\n",
    "    CASE\n",
    "        WHEN CAST(strftime('%H', Time) AS INTEGER) BETWEEN 6 AND 11 THEN 'Morning'\n",
    "        WHEN CAST(strftime('%H', Time) AS INTEGER) BETWEEN 12 AND 17 THEN 'Afternoon'\n",
    "        WHEN CAST(strftime('%H', Time) AS INTEGER) BETWEEN 18 AND 21 THEN 'Evening'\n",
    "        ELSE 'Night'\n",
    "    END AS Time_of_Day,\n",
    "    SUM(Quantity) AS Total_Quantity_Sold\n",
    "FROM sales_table\n",
    "GROUP BY Product_Line, Time_of_Day\n",
    "ORDER BY Product_Line, Time_of_Day;\n",
    "'''\n",
    "result = pd.read_sql_query(query, conn)\n",
    "print(result)"
   ]
  },
  {
   "cell_type": "code",
   "execution_count": null,
   "id": "909d7019",
   "metadata": {
    "papermill": {
     "duration": 0.005373,
     "end_time": "2025-03-23T15:01:44.822562",
     "exception": false,
     "start_time": "2025-03-23T15:01:44.817189",
     "status": "completed"
    },
    "tags": []
   },
   "outputs": [],
   "source": []
  }
 ],
 "metadata": {
  "kaggle": {
   "accelerator": "none",
   "dataSources": [
    {
     "datasetId": 205965,
     "sourceId": 451952,
     "sourceType": "datasetVersion"
    }
   ],
   "dockerImageVersionId": 30918,
   "isGpuEnabled": false,
   "isInternetEnabled": true,
   "language": "python",
   "sourceType": "notebook"
  },
  "kernelspec": {
   "display_name": "Python 3",
   "language": "python",
   "name": "python3"
  },
  "language_info": {
   "codemirror_mode": {
    "name": "ipython",
    "version": 3
   },
   "file_extension": ".py",
   "mimetype": "text/x-python",
   "name": "python",
   "nbconvert_exporter": "python",
   "pygments_lexer": "ipython3",
   "version": "3.10.12"
  },
  "papermill": {
   "default_parameters": {},
   "duration": 4.97618,
   "end_time": "2025-03-23T15:01:45.346913",
   "environment_variables": {},
   "exception": null,
   "input_path": "__notebook__.ipynb",
   "output_path": "__notebook__.ipynb",
   "parameters": {},
   "start_time": "2025-03-23T15:01:40.370733",
   "version": "2.6.0"
  }
 },
 "nbformat": 4,
 "nbformat_minor": 5
}
